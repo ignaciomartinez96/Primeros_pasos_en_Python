{
 "cells": [
  {
   "cell_type": "markdown",
   "id": "level-showcase",
   "metadata": {},
   "source": [
    "## Proyecto #2: El Ahorcado!\n",
    "<p>En esta oportunidad voy a diseñar un programa para poder jugar al ahorcado, en español. Se podrá jugar tanto en el modo para dos jugadores, donde uno le da una palabra al programa y el otro debe adivinar; como en el modo solitario o de un jugador, donde el programa elige al azar alguna de las palabras que ya tiene cargadas. Esas palabras están agrupadas por dificultad, de manera que el usuario puede elegir el modo fácil, el medio o el difícil, con palabras bastante raras.</p>"
   ]
  },
  {
   "cell_type": "markdown",
   "id": "paperback-laptop",
   "metadata": {},
   "source": [
    "<p><img src=\"https://www.planinfantil.es/wp-content/uploads/2020/03/el-ahoracado-1.jpg\">"
   ]
  },
  {
   "cell_type": "markdown",
   "id": "proud-beatles",
   "metadata": {},
   "source": [
    "<p>En primer lugar, vamos a importar todos los paquetes necesarios:</p>\n",
    "<p>- time</p>\n",
    "<p>- re</p>\n",
    "<p>- random</p>\n",
    "<p>- getpass</p>"
   ]
  },
  {
   "cell_type": "code",
   "execution_count": 1,
   "id": "roman-railway",
   "metadata": {},
   "outputs": [
    {
     "name": "stdout",
     "output_type": "stream",
     "text": [
      "________\n",
      "|   |   \n",
      "|       \n",
      "|       \n",
      "|       \n",
      "|       \n",
      "|       \n",
      "^^^^^^^^\n"
     ]
    }
   ],
   "source": [
    "import time\n",
    "import re\n",
    "import random\n",
    "import getpass\n",
    "\n",
    "def Hangman(tablero):  # Esta es una función casi idéntica a la del proyecto anterior. La necesitamos para dibujar el tablero y poder seguir dibujando sobre él en el futuro\n",
    "    print('_'*8)\n",
    "    for fila in range(6):\n",
    "        #practical_fila=int(fila/2)\n",
    "        for columna in range(8):\n",
    "            #practical_columna=int(columna/2)\n",
    "            if columna!=7:\n",
    "                print(tablero[columna][fila],end='')\n",
    "            else:\n",
    "                print(tablero[columna][fila])\n",
    "            \n",
    "            \n",
    "                \n",
    "    print('^'*8)\n",
    "    \n",
    "tablero = [['|','|','|','|','|','|','|'],[' ',' ',' ',' ',' ',' ',' '],[' ',' ',' ',' ',' ',' ',' '],\n",
    "          [' ',' ',' ',' ',' ',' ',' '],['|',' ',' ',' ',' ',' ',' '],[' ',' ',' ',' ',' ',' ',' '],\n",
    "          [' ',' ',' ',' ',' ',' ',' '],[' ',' ',' ',' ',' ',' ',' ']]\n",
    "\n",
    "# Dibujamos el tablero para chekear que el resultado sea más o menos parecido a una horca\n",
    "Hangman(tablero)\n"
   ]
  },
  {
   "cell_type": "markdown",
   "id": "linear-speaker",
   "metadata": {},
   "source": [
    "<p>Otra de las fuciones necesarias que debemos crear va a ser <code>Chekeo()</code>, encargada de verificar si el jugador ya acertó la palabra o no</p>"
   ]
  },
  {
   "cell_type": "code",
   "execution_count": 2,
   "id": "surgical-trash",
   "metadata": {},
   "outputs": [],
   "source": [
    "def Chekeo(a):\n",
    "    if '_' not in a:\n",
    "        print('SALVADO!!')\n",
    "        time.sleep(2)\n",
    "        print('\\n Gracias por salvar a nuestro amigo')\n",
    "        time.sleep(2)\n",
    "        new_party=input('¿Jugamos otra vez?: ')\n",
    "        if new_party=='si' or new_party=='sí':\n",
    "            globals()['player']=0\n",
    "            globals()['tablero']=[['|','|','|','|','|','|','|'],[' ',' ',' ',' ',' ',' ',' '],[' ',' ',' ',' ',' ',' ',' '],\n",
    "                    [' ',' ',' ',' ',' ',' ',' '],['|',' ',' ',' ',' ',' ',' '],[' ',' ',' ',' ',' ',' ',' '],\n",
    "                    [' ',' ',' ',' ',' ',' ',' '],[' ',' ',' ',' ',' ',' ',' ']]\n",
    "            return True\n",
    "        else:\n",
    "            print('\\n Hasta pronto!')\n",
    "            globals()['player']=3\n",
    "            return False\n",
    "    else:\n",
    "        if contador==6:\n",
    "            print('AHORCADO!!')\n",
    "            time.sleep(2)\n",
    "            print('PERDISTE :(')\n",
    "            time.sleep(2)\n",
    "            new_party=input('¿Jugamos otra vez?: ')\n",
    "            if new_party=='si' or new_party=='sí':\n",
    "                globals()['player']=0  # Esta fución es un gran comodín porque nos permite manipular una variable global, es decir, fuera de este dominio local\n",
    "                globals()['tablero']=[['|','|','|','|','|','|','|'],[' ',' ',' ',' ',' ',' ',' '],[' ',' ',' ',' ',' ',' ',' '],\n",
    "                        [' ',' ',' ',' ',' ',' ',' '],['|',' ',' ',' ',' ',' ',' '],[' ',' ',' ',' ',' ',' ',' '],\n",
    "                        [' ',' ',' ',' ',' ',' ',' '],[' ',' ',' ',' ',' ',' ',' ']]\n",
    "                return \n",
    "            else:\n",
    "                print('\\n Hasta pronto!')\n",
    "                globals()['player']=3\n",
    "                return\n",
    "    "
   ]
  },
  {
   "cell_type": "markdown",
   "id": "compound-encounter",
   "metadata": {},
   "source": [
    "<p>Ahora vamos a crear un gran bucle que nos permita correr el programa y jugar.</p>\n",
    "<p>Sin embargo, antes de ello, se puede observar el diccionario \"cartas\", que contiene los tres modos de dificultad disponibles para el modo de juego solitario.</p>\n",
    "<p>Cuando alguien gana o pierde, el programa pregunta si quieren volver a jugar. Si y solo si la respuesta es negativa, salimos del bucle y el programa termina. En cambio, si queremos volver a jugar, el programa volverá a iniciar.<p/>\n",
    "<p>En cuanto al código del bucle, se pueden encontrar algunas funciones tomadas de los paquetes importados previamente. Algunos comentarios indican qué rol cumplen</p>"
   ]
  },
  {
   "cell_type": "code",
   "execution_count": null,
   "id": "auburn-desperate",
   "metadata": {},
   "outputs": [
    {
     "name": "stdout",
     "output_type": "stream",
     "text": [
      "\n",
      "*******************************************\n",
      "*   BIENVENIDXS AL JUEGO DEL AHORCADO     *\n",
      "*                                         *\n",
      "*******************************************\n",
      "\n",
      "\n",
      "************************\n",
      "*  HECHO CON AMOR POR  *\n",
      "*        NACHO         *\n",
      "* **********************\n",
      "\n"
     ]
    },
    {
     "name": "stdin",
     "output_type": "stream",
     "text": [
      "¿Cuantxs jugadores van a jugar?\n",
      " [unx] [dos]  unx\n",
      "¿Qué modo deseas jugar? \n",
      " [fácil] [medio] [difícil]:  dificil\n",
      "Dime una letra:  f\n"
     ]
    },
    {
     "name": "stdout",
     "output_type": "stream",
     "text": [
      "________\n",
      "|   |   \n",
      "|   O   \n",
      "|       \n",
      "|       \n",
      "|       \n",
      "|       \n",
      "^^^^^^^^\n",
      "_ _ _ _ _ _ _ _ _ _ \n",
      "\n",
      "Estas letras no están en la palabra: ['F']\n"
     ]
    },
    {
     "name": "stdin",
     "output_type": "stream",
     "text": [
      "Dime una letra:  l\n"
     ]
    },
    {
     "name": "stdout",
     "output_type": "stream",
     "text": [
      "________\n",
      "|   |   \n",
      "|   O   \n",
      "|   |   \n",
      "|       \n",
      "|       \n",
      "|       \n",
      "^^^^^^^^\n",
      "_ _ _ _ _ _ _ _ _ _ \n",
      "\n",
      "Estas letras no están en la palabra: ['F', 'L']\n"
     ]
    },
    {
     "name": "stdin",
     "output_type": "stream",
     "text": [
      "Dime una letra:  a\n"
     ]
    },
    {
     "name": "stdout",
     "output_type": "stream",
     "text": [
      "________\n",
      "|   |   \n",
      "|   O   \n",
      "|   |   \n",
      "|   |   \n",
      "|       \n",
      "|       \n",
      "^^^^^^^^\n",
      "_ _ _ _ _ _ _ _ _ _ \n",
      "\n",
      "Estas letras no están en la palabra: ['F', 'L', 'A']\n"
     ]
    },
    {
     "name": "stdin",
     "output_type": "stream",
     "text": [
      "Dime una letra:  o\n"
     ]
    },
    {
     "name": "stdout",
     "output_type": "stream",
     "text": [
      "________\n",
      "|   |   \n",
      "|   O   \n",
      "|   |   \n",
      "|   |   \n",
      "|       \n",
      "|       \n",
      "^^^^^^^^\n",
      "_ _ _ _ _ _ _ _ _ O \n",
      "\n",
      "Estas letras no están en la palabra: ['F', 'L', 'A']\n"
     ]
    },
    {
     "name": "stdin",
     "output_type": "stream",
     "text": [
      "Dime una letra:  p\n"
     ]
    },
    {
     "name": "stdout",
     "output_type": "stream",
     "text": [
      "________\n",
      "|   |   \n",
      "|   O   \n",
      "|   |   \n",
      "|   |   \n",
      "|       \n",
      "|       \n",
      "^^^^^^^^\n",
      "_ _ _ P _ _ _ _ _ O \n",
      "\n",
      "Estas letras no están en la palabra: ['F', 'L', 'A']\n"
     ]
    },
    {
     "name": "stdin",
     "output_type": "stream",
     "text": [
      "Dime una letra:  e\n"
     ]
    },
    {
     "name": "stdout",
     "output_type": "stream",
     "text": [
      "________\n",
      "|   |   \n",
      "|   O   \n",
      "|   |   \n",
      "|   |   \n",
      "|       \n",
      "|       \n",
      "^^^^^^^^\n",
      "_ E _ P _ _ E _ _ O \n",
      "\n",
      "Estas letras no están en la palabra: ['F', 'L', 'A']\n"
     ]
    },
    {
     "name": "stdin",
     "output_type": "stream",
     "text": [
      "Dime una letra:  s\n"
     ]
    },
    {
     "name": "stdout",
     "output_type": "stream",
     "text": [
      "________\n",
      "|   |   \n",
      "|   O   \n",
      "|   |   \n",
      "|   |   \n",
      "|       \n",
      "|       \n",
      "^^^^^^^^\n",
      "S E _ P _ _ E _ _ O \n",
      "\n",
      "Estas letras no están en la palabra: ['F', 'L', 'A']\n"
     ]
    }
   ],
   "source": [
    "cartas={'fácil':['tonto','flor','mujer','cosa','partido','ciudad','historia','agua','ejemplo','ley','guerra','mano','sociedad',\n",
    "                 'gente','problema','información','siglo','derecho','compras','barbijo','cajero','computadora','coche','cama','volar','película'\n",
    "                'reina','cuaderno'],\n",
    "        'medio':['interesate','disciplina','metastasis','alveolar','ideolecto','verbosemantica','parafasia','interestelar'\n",
    "                'conjuncion','subordinada','subjuntivo','astragalo','inmunodeprimido','cardiovascular','gangrena','acincope',\n",
    "                'minimalismo'],\n",
    "        'difícil':['mamporrero','omeprazol','barbian','sapenco','vituperio','nefelibata',\n",
    "                  'electroencefalografista','agapachar','zangolotear','ataraxia','cagaprisas'\n",
    "                  'euroescepticismo','limerencia','sempiterno','casquivana','sopenco']}\n",
    "\n",
    "player=0\n",
    "bienvenida='''\n",
    "*******************************************\n",
    "*   BIENVENIDXS AL JUEGO DEL AHORCADO     *\n",
    "*                                         *\n",
    "*******************************************\n",
    "'''\n",
    "autor='''\n",
    "************************\n",
    "*  HECHO CON AMOR POR  *\n",
    "*        NACHO         *\n",
    "* **********************\n",
    "'''\n",
    "while player==0:\n",
    "    print(bienvenida)\n",
    "    time.sleep(2)  # Aquí tenemos al paquete sleep que nos permite realizar algunas pausas\n",
    "    print(autor)\n",
    "    time.sleep(3)\n",
    "    contador=-1\n",
    "    letras_usadas=[]\n",
    "    hombre= r\"O||//\\\\\"\n",
    "    cantidad_de_jugadores=input('¿Cuantxs jugadores van a jugar?\\n [unx] [dos] ')\n",
    "    if cantidad_de_jugadores=='2' or cantidad_de_jugadores=='dos':\n",
    "        time.sleep(1)\n",
    "        palabra=getpass.getpass(prompt='Dime la palabra: ')  # Esta función es ideal para ocultar la palabra que escribe unx de los jugadxores. En Jupyter se ejectua sin problema.\n",
    "        palabra_up=palabra.upper()\n",
    "        palabra_lista=re.findall(r\"\\w\",palabra_up)  # La función del paquete re es ideal para crear una lista con todas las letras que contiene la palabra que debe ser adivinada\n",
    "        guess_lista=[]\n",
    "        for letra in palabra_lista:\n",
    "            guess_lista.append('_')\n",
    "        player=2\n",
    "        print('Salva a nuestro amigo!')\n",
    "        time.sleep(1)\n",
    "        while player==2:  \n",
    "            guess=input('\\n Dime una letra: ')\n",
    "            guess_up=guess.upper()\n",
    "            if guess_up in palabra_lista:\n",
    "                while guess_up in palabra_lista:\n",
    "                    guess_index=palabra_lista.index(guess_up)\n",
    "                    guess_lista[guess_index]=guess_up\n",
    "                    palabra_lista[guess_index]='_'\n",
    "                Hangman(tablero)\n",
    "                for i in guess_lista:\n",
    "                    print(i,end=' ')\n",
    "                print('\\n')\n",
    "                print('Estas letras no están en la palabra:',letras_usadas)\n",
    "                Chekeo(guess_lista)\n",
    "            \n",
    "            else:\n",
    "                if contador<7:\n",
    "                    contador+=1\n",
    "                    error=hombre[contador]\n",
    "                    if contador==0:\n",
    "                        tablero[4][1]=error\n",
    "                    if contador==1:\n",
    "                        tablero[4][2]=error\n",
    "                    if contador==2:\n",
    "                        tablero[4][3]=error\n",
    "                    if contador==3:\n",
    "                        tablero[3][2]=error\n",
    "                    if contador==4:\n",
    "                        tablero[3][4]=error\n",
    "                    if contador==5:\n",
    "                        tablero[5][4]=error\n",
    "                    if contador==6:\n",
    "                        tablero[5][2]=error\n",
    "                letras_usadas.append(guess_up)\n",
    "                Hangman(tablero)\n",
    "                for i in guess_lista:\n",
    "                    print(i,end=' ')\n",
    "                print('\\n')\n",
    "                print('Estas letras no están en la palabra:',letras_usadas)\n",
    "                Chekeo(guess_lista)\n",
    "    else:\n",
    "        player=1\n",
    "        time.sleep(1)\n",
    "        dificultad=input('¿Qué modo deseas jugar? \\n [fácil] [medio] [difícil]: ')\n",
    "        if dificultad=='facil':\n",
    "            dificultad=\"fácil\"\n",
    "        if dificultad==\"dificil\":\n",
    "            dificultad='difícil'\n",
    "        palabra_pre=cartas[dificultad]\n",
    "        palabra=random.choice(palabra_pre)  # Aquí tenemos una función del paquete random que nos permite jugar en modo solitario ya que el programa elige una palabra al azar del diccionario \"cartas\"\n",
    "        palabra_up=palabra.upper()\n",
    "        palabra_lista=re.findall(r\"\\w\",palabra_up)\n",
    "        guess_lista=[]\n",
    "        for letra in palabra_lista:\n",
    "            guess_lista.append('_')\n",
    "        while player==1:\n",
    "            guess=input('Dime una letra: ')\n",
    "            guess_up=guess.upper()\n",
    "            if guess_up in palabra_lista:\n",
    "                while guess_up in palabra_lista:\n",
    "                    guess_index=palabra_lista.index(guess_up)\n",
    "                    guess_lista[guess_index]=guess_up\n",
    "                    palabra_lista[guess_index]='_'\n",
    "                Hangman(tablero)\n",
    "                for i in guess_lista:\n",
    "                    print(i,end=' ')\n",
    "                print('\\n')\n",
    "                print('Estas letras no están en la palabra:',letras_usadas)\n",
    "                Chekeo(guess_lista)\n",
    "            \n",
    "            else:\n",
    "                if contador<7:\n",
    "                    contador+=1\n",
    "                    error=hombre[contador]\n",
    "                    if contador==0:\n",
    "                        tablero[4][1]=error\n",
    "                    if contador==1:\n",
    "                        tablero[4][2]=error\n",
    "                    if contador==2:\n",
    "                        tablero[4][3]=error\n",
    "                    if contador==3:\n",
    "                        tablero[3][2]=error\n",
    "                    if contador==4:\n",
    "                        tablero[3][4]=error\n",
    "                    if contador==5:\n",
    "                        tablero[5][4]=error\n",
    "                    if contador==6:\n",
    "                        tablero[5][2]=error\n",
    "                letras_usadas.append(guess_up)\n",
    "                Hangman(tablero)\n",
    "                for i in guess_lista:\n",
    "                    print(i,end=' ')\n",
    "                print('\\n')\n",
    "                print('Estas letras no están en la palabra:',letras_usadas)\n",
    "                Chekeo(guess_lista)\n",
    "        "
   ]
  },
  {
   "cell_type": "code",
   "execution_count": null,
   "id": "engaged-supervisor",
   "metadata": {},
   "outputs": [],
   "source": []
  }
 ],
 "metadata": {
  "kernelspec": {
   "display_name": "Python 3",
   "language": "python",
   "name": "python3"
  },
  "language_info": {
   "codemirror_mode": {
    "name": "ipython",
    "version": 3
   },
   "file_extension": ".py",
   "mimetype": "text/x-python",
   "name": "python",
   "nbconvert_exporter": "python",
   "pygments_lexer": "ipython3",
   "version": "3.8.5"
  }
 },
 "nbformat": 4,
 "nbformat_minor": 5
}
